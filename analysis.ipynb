{
  "cells": [
    {
      "cell_type": "markdown",
      "metadata": {
        "id": "8Azx_lmOTQzx"
      },
      "source": [
        "# Package"
      ]
    },
    {
      "cell_type": "code",
      "execution_count": null,
      "metadata": {
        "id": "qfsKO4aWRRrP"
      },
      "outputs": [],
      "source": [
        "import pandas as pd\n",
        "import numpy as np\n",
        "import matplotlib.pyplot as plt\n",
        "%matplotlib inline\n",
        "from nltk.corpus import stopwords\n",
        "from wordcloud import WordCloud\n",
        "from nltk import word_tokenize, sent_tokenize\n",
        "from nltk.tokenize import word_tokenize\n",
        "from nltk.tokenize import sent_tokenize\n",
        "from nltk.stem import WordNetLemmatizer \n",
        "import string\n",
        "import re\n",
        "import nltk\n",
        "# from datetime import datetime\n",
        "import datetime as dt\n",
        "import seaborn as sns\n",
        "import matplotlib.pyplot as plt\n",
        "import torch\n",
        "import torch.nn as nn\n",
        "from torch.nn import Module, LSTM, Linear\n",
        "from torch.utils.data import Dataset, DataLoader, TensorDataset\n",
        "import os\n",
        "import sys\n",
        "import time\n",
        "import logging\n",
        "from logging.handlers import RotatingFileHandler"
      ]
    },
    {
      "cell_type": "code",
      "execution_count": null,
      "metadata": {
        "id": "1MK2xQWGYhUU"
      },
      "outputs": [],
      "source": [
        "nltk.download('all')"
      ]
    },
    {
      "cell_type": "code",
      "execution_count": null,
      "metadata": {
        "colab": {
          "base_uri": "https://localhost:8080/"
        },
        "id": "C7aYMepTSxZe",
        "outputId": "c8cc3c0e-3356-4fc3-ee77-d0494fbf2b50"
      },
      "outputs": [
        {
          "output_type": "stream",
          "name": "stdout",
          "text": [
            "Drive already mounted at /content/drive; to attempt to forcibly remount, call drive.mount(\"/content/drive\", force_remount=True).\n",
            "/content/drive/My Drive/4995 final proj\n"
          ]
        }
      ],
      "source": [
        "from google.colab import drive\n",
        "drive.mount('/content/drive')\n",
        "%cd /content/drive/My Drive/4995 final proj/"
      ]
    },
    {
      "cell_type": "code",
      "execution_count": null,
      "metadata": {
        "colab": {
          "base_uri": "https://localhost:8080/"
        },
        "id": "8wwJT2k5cQ3S",
        "outputId": "62631abd-8467-4757-e670-d61a3884fe26"
      },
      "outputs": [
        {
          "output_type": "stream",
          "name": "stdout",
          "text": [
            "unzip:  cannot find or open archive.zip, archive.zip.zip or archive.zip.ZIP.\n"
          ]
        }
      ],
      "source": [
        "! unzip archive.zip"
      ]
    },
    {
      "cell_type": "markdown",
      "metadata": {
        "id": "hXIuXyGvRTgN"
      },
      "source": [
        "Dataset"
      ]
    },
    {
      "cell_type": "markdown",
      "metadata": {
        "id": "P21UXukuTlee"
      },
      "source": [
        "# Dataset loading"
      ]
    },
    {
      "cell_type": "code",
      "execution_count": null,
      "metadata": {
        "id": "Ti6zg4UmRS_f"
      },
      "outputs": [],
      "source": [
        "company = pd.read_csv('Company.csv')\n",
        "company_tweet = pd.read_csv('Company_Tweet.csv')\n",
        "company_values = pd.read_csv('CompanyValues.csv')\n",
        "tweet  = pd.read_csv('Tweet.csv')\n",
        "DJIA_prices = pd.read_csv('upload_DJIA_table.csv')\n",
        "news = pd.read_csv('Combined_News_DJIA.csv')"
      ]
    },
    {
      "cell_type": "code",
      "execution_count": null,
      "metadata": {
        "colab": {
          "base_uri": "https://localhost:8080/",
          "height": 206
        },
        "id": "UUsgEynIx0AU",
        "outputId": "58a2d8f5-95b4-4f48-ee06-02d52f2b594a"
      },
      "outputs": [
        {
          "output_type": "execute_result",
          "data": {
            "text/html": [
              "<div>\n",
              "<style scoped>\n",
              "    .dataframe tbody tr th:only-of-type {\n",
              "        vertical-align: middle;\n",
              "    }\n",
              "\n",
              "    .dataframe tbody tr th {\n",
              "        vertical-align: top;\n",
              "    }\n",
              "\n",
              "    .dataframe thead th {\n",
              "        text-align: right;\n",
              "    }\n",
              "</style>\n",
              "<table border=\"1\" class=\"dataframe\">\n",
              "  <thead>\n",
              "    <tr style=\"text-align: right;\">\n",
              "      <th></th>\n",
              "      <th>ticker_symbol</th>\n",
              "      <th>company_name</th>\n",
              "    </tr>\n",
              "  </thead>\n",
              "  <tbody>\n",
              "    <tr>\n",
              "      <th>0</th>\n",
              "      <td>AAPL</td>\n",
              "      <td>apple</td>\n",
              "    </tr>\n",
              "    <tr>\n",
              "      <th>1</th>\n",
              "      <td>GOOG</td>\n",
              "      <td>Google Inc</td>\n",
              "    </tr>\n",
              "    <tr>\n",
              "      <th>2</th>\n",
              "      <td>GOOGL</td>\n",
              "      <td>Google Inc</td>\n",
              "    </tr>\n",
              "    <tr>\n",
              "      <th>3</th>\n",
              "      <td>AMZN</td>\n",
              "      <td>Amazon.com</td>\n",
              "    </tr>\n",
              "    <tr>\n",
              "      <th>4</th>\n",
              "      <td>TSLA</td>\n",
              "      <td>Tesla Inc</td>\n",
              "    </tr>\n",
              "  </tbody>\n",
              "</table>\n",
              "</div>"
            ],
            "text/plain": [
              "  ticker_symbol company_name\n",
              "0          AAPL        apple\n",
              "1          GOOG   Google Inc\n",
              "2         GOOGL   Google Inc\n",
              "3          AMZN   Amazon.com\n",
              "4          TSLA    Tesla Inc"
            ]
          },
          "metadata": {},
          "execution_count": 60
        }
      ],
      "source": [
        "company.head()"
      ]
    },
    {
      "cell_type": "code",
      "execution_count": null,
      "metadata": {
        "id": "FXXWAn1ERXoS"
      },
      "outputs": [],
      "source": [
        "merged_tweet = company_tweet.merge(tweet, how = 'inner', on = ['tweet_id'])\n",
        "merged_tweet.post_date = pd.to_datetime(merged_tweet['post_date'], unit='s')\n",
        "\n",
        "# news['Date'].apply(lambda x: x.strftime('%Y-%m-%d'))\n",
        "# DJIA_prices['Date'].apply(lambda x: x.strftime('%Y-%m-%d'))\n",
        "\n",
        "merged_tweet['Date']=merged_tweet['post_date'].apply(lambda x: x.date().strftime('%Y-%m-%d'))\n",
        "merged_tweet.rename(columns={\"post_date\":\"Datetime\"}, inplace=True)\n",
        "\n",
        "\n",
        "news['Datetime'] = pd.to_datetime(news['Date'])\n",
        "DJIA_prices['Datetime'] = pd.to_datetime(DJIA_prices['Date'])\n",
        "\n",
        "date_string=\"Date\"\n",
        "date_datetime=\"Datetime\"\n",
        "\n"
      ]
    },
    {
      "cell_type": "code",
      "execution_count": null,
      "metadata": {
        "id": "xIiUx0nCRZXD"
      },
      "outputs": [],
      "source": [
        "# company_label_dict is a dict for each company and kv of date:label\n",
        "# print(company_values.columns)\n",
        "company_values_date_dict=company_values.groupby('ticker_symbol')[['close_value','day_date']].apply(lambda g: g.values.tolist()).to_dict()\n",
        "company_label_dict={}\n",
        "for key in company_values_date_dict:\n",
        "    list1=np.array(company_values_date_dict[key])[:-1,0].astype(float)\n",
        "    list2=np.array(company_values_date_dict[key])[1:,0].astype(float)\n",
        "    lb=np.where(list2-list1>0,1,0)\n",
        "    date=np.array(company_values_date_dict[key])[:-1,1]\n",
        "    company_label_dict[key]= dict(map(lambda x: (x[0], x[1]),zip(date,lb)))\n",
        "\n",
        "\n",
        "print(f\"company_label_dict: {company_label_dict}\")\n",
        "company_label_pd=pd.DataFrame.from_dict(company_label_dict)\n",
        "\n",
        "\n"
      ]
    },
    {
      "cell_type": "markdown",
      "metadata": {
        "id": "7iTIKMbdTwXh"
      },
      "source": [
        "# Parameters"
      ]
    },
    {
      "cell_type": "code",
      "execution_count": null,
      "metadata": {
        "id": "PUzZOZCdLYnm"
      },
      "outputs": [],
      "source": [
        "# Parms:\n",
        "# length for each day\n",
        "import random\n",
        "tweets_vec_len=150\n",
        "news_vec_len=100\n",
        "\n",
        "\n",
        "dev_split_rate=0.8\n",
        "train_split_rate=0.8\n",
        "window_length=7  #How many natual days included for each window.\n",
        "forward_predict_length=3\n",
        "start_date=dt.datetime(2015, 1, 1)\n",
        "end_date=dt.datetime(2015, 8, 11)\n",
        "each_day_tweets_used_train=7\n",
        "\n",
        "\n",
        "\n",
        "ds=[]\n",
        "for i in range(100):\n",
        "  ip=np.random.rand(30,500)\n",
        "  lb=random.random()*2//2\n",
        "  ds.append(dict({\"feat\":ip,\"label\":lb}))\n",
        "\n",
        "\n",
        "\n",
        "print(ds[0])\n"
      ]
    },
    {
      "cell_type": "markdown",
      "metadata": {
        "id": "9acdk3BUalQD"
      },
      "source": [
        "Calculate parms"
      ]
    },
    {
      "cell_type": "code",
      "execution_count": null,
      "metadata": {
        "id": "6F03QsxRakoP"
      },
      "outputs": [],
      "source": [
        "dev_start_date=start_date\n",
        "dev_end_date=(end_date-start_date)*dev_split_rate+dev_start_date\n",
        "test_start_date=dev_end_date\n",
        "test_end_date=end_date\n",
        "\n",
        "train_start_date=dev_start_date\n",
        "train_end_date=(dev_end_date-dev_start_date)*train_split_rate+train_start_date\n",
        "val_start_date=train_end_date\n",
        "val_end_date=dev_end_date"
      ]
    },
    {
      "cell_type": "markdown",
      "metadata": {
        "id": "C9hYY39lWLe_"
      },
      "source": [
        "Sampling"
      ]
    },
    {
      "cell_type": "markdown",
      "metadata": {
        "id": "uOKzSi2ST6qD"
      },
      "source": [
        "# Data preprocessing"
      ]
    },
    {
      "cell_type": "code",
      "execution_count": null,
      "metadata": {
        "colab": {
          "base_uri": "https://localhost:8080/"
        },
        "id": "m3iWrNw8WRLi",
        "outputId": "bfa76347-23d9-4638-aaf2-53c8f3ea365f"
      },
      "outputs": [
        {
          "output_type": "stream",
          "name": "stdout",
          "text": [
            "avai_dates: ['2015-01-02', '2015-01-05', '2015-01-06', '2015-01-07', '2015-01-08', '2015-01-09', '2015-01-12', '2015-01-13', '2015-01-14', '2015-01-15', '2015-01-16', '2015-01-20', '2015-01-21', '2015-01-22', '2015-01-23', '2015-01-26', '2015-01-27', '2015-01-28', '2015-01-29', '2015-01-30', '2015-02-02', '2015-02-03', '2015-02-04', '2015-02-05', '2015-02-06', '2015-02-09', '2015-02-10', '2015-02-11', '2015-02-12', '2015-02-13', '2015-02-17', '2015-02-18', '2015-02-19', '2015-02-20', '2015-02-23', '2015-02-24', '2015-02-25', '2015-02-26', '2015-02-27', '2015-03-02', '2015-03-03', '2015-03-04', '2015-03-05', '2015-03-06', '2015-03-09', '2015-03-10', '2015-03-11', '2015-03-12', '2015-03-13', '2015-03-16', '2015-03-17', '2015-03-18', '2015-03-19', '2015-03-20', '2015-03-23', '2015-03-24', '2015-03-25', '2015-03-26', '2015-03-27', '2015-03-30', '2015-03-31', '2015-04-01', '2015-04-02', '2015-04-06', '2015-04-07', '2015-04-08', '2015-04-09', '2015-04-10', '2015-04-13', '2015-04-14', '2015-04-15', '2015-04-16', '2015-04-17', '2015-04-20', '2015-04-21', '2015-04-22', '2015-04-23', '2015-04-24', '2015-04-27', '2015-04-28', '2015-04-29', '2015-04-30', '2015-05-01', '2015-05-04', '2015-05-05', '2015-05-06', '2015-05-07', '2015-05-08', '2015-05-11', '2015-05-12', '2015-05-13', '2015-05-14', '2015-05-15', '2015-05-18', '2015-05-19', '2015-05-20', '2015-05-21', '2015-05-22', '2015-05-26', '2015-05-27', '2015-05-28', '2015-05-29', '2015-06-01', '2015-06-02', '2015-06-03', '2015-06-04', '2015-06-05', '2015-06-08', '2015-06-09', '2015-06-10', '2015-06-11', '2015-06-12', '2015-06-15', '2015-06-16', '2015-06-17', '2015-06-18', '2015-06-19', '2015-06-22', '2015-06-23', '2015-06-24', '2015-06-25', '2015-06-26', '2015-06-29', '2015-06-30', '2015-07-01', '2015-07-02', '2015-07-06', '2015-07-07', '2015-07-08', '2015-07-09', '2015-07-10', '2015-07-13', '2015-07-14', '2015-07-15', '2015-07-16', '2015-07-17', '2015-07-20', '2015-07-21', '2015-07-22', '2015-07-23', '2015-07-24', '2015-07-27', '2015-07-28', '2015-07-29', '2015-07-30', '2015-07-31', '2015-08-03', '2015-08-04', '2015-08-05', '2015-08-06', '2015-08-07', '2015-08-10']\n"
          ]
        }
      ],
      "source": [
        "start_date_str=start_date.strftime('%Y-%m-%d')\n",
        "end_date_str=end_date.strftime('%Y-%m-%d')\n",
        "\n",
        "company_avai_dates=set(company_label_dict['AAPL'].keys())\n",
        "company_avai_dates_in_range=[date for date in company_avai_dates if (date >=start_date_str) and  (date < end_date_str) ]\n",
        "\n",
        "\n",
        "news_avai_dates=set(news['Date'])\n",
        "news_avai_dates_in_range=[date for date in news_avai_dates if (date >=start_date_str) and  (date < end_date_str) ]\n",
        "\n",
        "avai_dates_in_range=set(company_avai_dates.intersection(news_avai_dates_in_range))\n",
        "\n",
        "print(f\"avai_dates: {sorted(avai_dates_in_range)}\")"
      ]
    },
    {
      "cell_type": "code",
      "execution_count": null,
      "metadata": {
        "id": "Ziu5nZQHclGD"
      },
      "outputs": [],
      "source": [
        "def add_lable(df, date_col_name=date_string,ticker_symbol_name=\"ticker_symbol\"):\n",
        "  df[\"Label\"]=df.apply(lambda x: -1 if x[date_col_name] not in company_label_dict[x[ticker_symbol_name]] else company_label_dict[x[ticker_symbol_name]][x[date_col_name]], axis=1)\n",
        "  return df\n"
      ]
    },
    {
      "cell_type": "code",
      "execution_count": null,
      "metadata": {
        "id": "PG9fMk-8kfuu"
      },
      "outputs": [],
      "source": [
        "def split_dataset(start_date,end_date, date_col_name=date_string):\n",
        "    avai_dates_in_range_selected=[date for date in avai_dates_in_range if date>=start_date.strftime('%Y-%m-%d') and date<end_date.strftime('%Y-%m-%d')]\n",
        "    # print(len(avai_dates_in_range_selected))\n",
        "    tweets_window=merged_tweet.loc[merged_tweet[date_col_name].isin(avai_dates_in_range_selected)]\n",
        "    tweets_window=add_lable(tweets_window)\n",
        "\n",
        "    news_window=news.loc[news.Date.isin(avai_dates_in_range_selected)]\n",
        "\n",
        "    prices=DJIA_prices.loc[DJIA_prices.Date .isin(avai_dates_in_range_selected)]\n",
        "\n",
        "    # label=DJIA_prices.loc[DJIA_prices.Date .isin(avai_dates_in_range_selected)]['Adj Close']\\\n",
        "    label=news.loc[DJIA_prices.Date.isin(avai_dates_in_range_selected)]['Label']\n",
        "    # print(len(label))\n",
        "    # ?? make it 0/1 label\n",
        "\n",
        "    data_dict={\"tweets_window\":tweets_window,\"news_window\":news_window,\"prices\":prices,\"label\":label}\n",
        "\n",
        "    # print(tweets_window2['post_date'])\n",
        "    return data_dict\n"
      ]
    },
    {
      "cell_type": "code",
      "execution_count": null,
      "metadata": {
        "id": "Ro25oDz7lF1W"
      },
      "outputs": [],
      "source": [
        "import bisect\n",
        "def split_dataset_into_window_chunck(start_date,end_date, data_frame, date_col_name=date_string):\n",
        "    avai_dates_in_range_selected=[date for date in avai_dates_in_range if date>=start_date.strftime('%Y-%m-%d') and date<end_date.strftime('%Y-%m-%d')]\n",
        "    one_day_delta = dt.timedelta(days=1)\n",
        "    data_set_window_list=[]\n",
        "    print(\"Len of dataset\",(end_date-start_date).days-window_length-forward_predict_length)\n",
        "    for day in range((end_date-start_date).days-window_length-forward_predict_length):\n",
        "        cur_day=(day+window_length)*one_day_delta + start_date\n",
        "        # print(cur_day.strftime(\"%Y-%m-%d\"))\n",
        "        if cur_day.strftime(\"%Y-%m-%d\") in avai_dates_in_range:\n",
        "            window_start_date= cur_day-window_length*one_day_delta\n",
        "            # window_end_date=(window_length+day+window_length)*one_day_delta + start_date\n",
        "            window_end_date=cur_day\n",
        "            \n",
        "            # predict_date= (window_end_date + forward_predict_length*one_day_delta).strftime('%Y-%m-%d')\n",
        "            predict_date = (window_end_date + forward_predict_length*one_day_delta).strftime('%Y-%m-%d')\n",
        "            predict_date = bisect.bisect_left(avai_dates_in_range_selected, predict_date)\n",
        "            # print(len(avai_dates_in_range_selected))\n",
        "            # print(predict_date)\n",
        "            if predict_date ==-1 or predict_date>=len(avai_dates_in_range_selected):\n",
        "               predict_date= avai_dates_in_range_selected[-1]\n",
        "            else:\n",
        "               predict_date=avai_dates_in_range_selected[predict_date]\n",
        "\n",
        "            window_start_date=window_start_date.strftime('%Y-%m-%d')\n",
        "            window_end_date=window_end_date.strftime('%Y-%m-%d')\n",
        "\n",
        "            # print(\"avai_dates_in_range_selected:\", avai_dates_in_range_selected)\n",
        "            # print(\"window_start_date: \", window_start_date)\n",
        "            \n",
        "            # print(\"window_end_date: \", window_end_date)\n",
        "            avai_dates_in_range_selected_inwindow=[date for date in avai_dates_in_range_selected if date>=window_start_date and date<window_end_date]\n",
        "\n",
        "            tweets_window=data_frame['tweets_window'].loc[ data_frame['tweets_window'][date_col_name].isin(avai_dates_in_range_selected_inwindow)]\n",
        "            # tweets_window=add_lable(tweets_window)\n",
        "            news_window=data_frame['news_window'].loc[data_frame['news_window'][date_col_name].isin(avai_dates_in_range_selected_inwindow)]\n",
        "\n",
        "            prices=data_frame['prices'].loc[data_frame['prices'][date_col_name].isin(avai_dates_in_range_selected_inwindow)]\n",
        "            # print(\"avai_dates_in_range_selected_inwindow\\n\\n\\n\", avai_dates_in_range_selected_inwindow)\n",
        "            \n",
        "            # label=data_frame['news_window'].loc[data_frame['news_window'][date_col_name].isin(avai_dates_in_range_selected_inwindow)]['Label']\n",
        "            label=data_frame['news_window'].loc[data_frame['news_window'][date_col_name]==predict_date]['Label']\n",
        "        \n",
        "            data_set_window_list.append({\"tweets_window\":tweets_window,\"news_window\":news_window,\"prices\":prices,\"label\":label.values[0]})\n",
        "\n",
        "            \n",
        "            # print(\"data_set_window_list: \",data_set_window_list)\n",
        "            # print(data_frame)\n",
        "    return data_set_window_list"
      ]
    },
    {
      "cell_type": "code",
      "execution_count": null,
      "metadata": {
        "id": "bbESKAF3mLgo"
      },
      "outputs": [],
      "source": [
        "class DeepCleanse:\n",
        "\n",
        "  def __init__(self, dataframe_dev=0, dataframe_test=0):\n",
        "    self.dataframe_dev = dataframe_dev\n",
        "    self.dataframe_test = dataframe_test\n",
        "\n",
        "  def remove_Stopwords(self, text):\n",
        "      stop_words = set(stopwords.words('english')+['appl','aapl','msft','goog','googl','amzn','tsla','stock','market','fb','apple'])\n",
        "      words = word_tokenize(text.lower())\n",
        "      sentence = [w for w in words if not w in stop_words and w[:4]!='http']      \n",
        "      return \" \".join(sentence)\n",
        "\n",
        "  def lemmatize_text(self, text):\n",
        "      wordlist=[]\n",
        "      lemmatizer = WordNetLemmatizer() \n",
        "      sentences=sent_tokenize(text)\n",
        "      for sentence in sentences:\n",
        "          words=word_tokenize(sentence)\n",
        "          for word in words:\n",
        "              wordlist.append(lemmatizer.lemmatize(word))\n",
        "      return ' '.join(wordlist) \n",
        "\n",
        "  def clean_text(self, text): \n",
        "      delete_dict = {sp_character: '' for sp_character in string.punctuation} \n",
        "      delete_dict[' '] = ' ' \n",
        "      table = str.maketrans(delete_dict)\n",
        "      text1 = text.translate(table)\n",
        "      textArr= text1.split()\n",
        "      text2 = ' '.join([w for w in textArr]) \n",
        "      return text2.lower()\n",
        "\n",
        "  def deepTextCleanse(self, column):\n",
        "      self.dataframe_dev[column] = self.dataframe_dev[column].apply(self.clean_text)\n",
        "      self.dataframe_dev[column] = self.dataframe_dev[column].apply(self.remove_Stopwords)\n",
        "      self.dataframe_dev[column] = self.dataframe_dev[column].apply(self.lemmatize_text)\n",
        "      self.dataframe_test[column] = self.dataframe_test[column].apply(self.clean_text)\n",
        "      self.dataframe_test[column] = self.dataframe_test[column].apply(self.remove_Stopwords)\n",
        "      self.dataframe_test[column] = self.dataframe_test[column].apply(self.lemmatize_text)\n",
        "      return self.dataframe_dev, self.dataframe_test"
      ]
    },
    {
      "cell_type": "markdown",
      "metadata": {
        "id": "OI9qho7FT_ZD"
      },
      "source": [
        "# Split dataset into dev and test and cleaning"
      ]
    },
    {
      "cell_type": "code",
      "execution_count": null,
      "metadata": {
        "colab": {
          "base_uri": "https://localhost:8080/"
        },
        "id": "k8E485ikOIzx",
        "outputId": "05f1ea5e-d375-44e6-e459-41c310a23d1b"
      },
      "outputs": [
        {
          "output_type": "stream",
          "name": "stdout",
          "text": [
            "days of dev set (including weekend): 177\n",
            "days of test set (including weekend): 44\n",
            "dev_start_date: 2015-01-01, test_start_date: 2015-06-27\n"
          ]
        },
        {
          "output_type": "stream",
          "name": "stderr",
          "text": [
            "/usr/local/lib/python3.7/dist-packages/ipykernel_launcher.py:2: SettingWithCopyWarning: \n",
            "A value is trying to be set on a copy of a slice from a DataFrame.\n",
            "Try using .loc[row_indexer,col_indexer] = value instead\n",
            "\n",
            "See the caveats in the documentation: https://pandas.pydata.org/pandas-docs/stable/user_guide/indexing.html#returning-a-view-versus-a-copy\n",
            "  \n"
          ]
        },
        {
          "output_type": "stream",
          "name": "stdout",
          "text": [
            "168694289\n",
            "Apple's buy rating reiterated at Citigroup Inc.. $145.00 PT. http://ift.tt/1GLBOnO $AAPL #AAPL\n"
          ]
        }
      ],
      "source": [
        "print(f\"days of dev set (including weekend): {(dev_end_date-dev_start_date).days}\")\n",
        "print(f\"days of test set (including weekend): {(test_end_date-test_start_date).days}\")\n",
        "\n",
        "print(f\"dev_start_date: {dev_start_date.date()}, test_start_date: {test_start_date.date()}\")\n",
        "\n",
        "dev_data_dict=split_dataset(dev_start_date,dev_end_date)\n",
        "\n",
        "test_data_dict=split_dataset(test_start_date,test_end_date)\n",
        "\n",
        "import sys\n",
        "print(sys.getsizeof(dev_data_dict[\"tweets_window\"]))\n",
        "\n",
        "print(test_data_dict[\"tweets_window\"][\"body\"].values[0])\n",
        "\n"
      ]
    },
    {
      "cell_type": "code",
      "execution_count": null,
      "metadata": {
        "colab": {
          "base_uri": "https://localhost:8080/",
          "height": 284
        },
        "id": "RSa30lleGjom",
        "outputId": "2210d9bf-2242-44cf-fc7e-871aa9522075"
      },
      "outputs": [
        {
          "output_type": "execute_result",
          "data": {
            "text/plain": [
              "<matplotlib.axes._subplots.AxesSubplot at 0x7f0e228cac50>"
            ]
          },
          "metadata": {},
          "execution_count": 71
        },
        {
          "output_type": "display_data",
          "data": {
            "image/png": "[encoded data removed]",
            "text/plain": [
              "<Figure size 432x288 with 1 Axes>"
            ]
          },
          "metadata": {
            "needs_background": "light"
          }
        }
      ],
      "source": [
        "import seaborn as sns\n",
        "avai_dates_in_range_selected=[date for date in avai_dates_in_range if date>=dev_start_date.strftime('%Y-%m-%d') and date<dev_end_date.strftime('%Y-%m-%d')]\n",
        "sns.scatterplot(x=np.arange(len(avai_dates_in_range_selected)),y=dev_data_dict[\"label\"].values)\n",
        "\n",
        "kernel_size=5\n",
        "kernel = np.ones(kernel_size) / kernel_size\n",
        "data_convolved = np.convolve(dev_data_dict[\"label\"].values, kernel, mode='same')\n",
        "sns.lineplot(x=np.arange(len(avai_dates_in_range_selected)),y=data_convolved, label=\"MACD 5\")\n",
        "\n",
        "kernel2 = (np.arange(kernel_size)**1.5)\n",
        "kernel2=kernel2/np.sum(kernel2)\n",
        "data_convolved = np.convolve(dev_data_dict[\"label\"].values, kernel2, mode='same')\n",
        "sns.lineplot(x=np.arange(len(avai_dates_in_range_selected)),y=data_convolved, label=\"dec rate\")"
      ]
    },
    {
      "cell_type": "markdown",
      "metadata": {
        "id": "v1ZngdJ0YE-y"
      },
      "source": [
        "Cleaning Tweets"
      ]
    },
    {
      "cell_type": "code",
      "execution_count": null,
      "metadata": {
        "id": "KV7v_G-8ShMr",
        "colab": {
          "base_uri": "https://localhost:8080/"
        },
        "outputId": "90ff1307-fe31-4f5d-d958-7b16c4f08aa4"
      },
      "outputs": [
        {
          "output_type": "stream",
          "name": "stderr",
          "text": [
            "/usr/local/lib/python3.7/dist-packages/ipykernel_launcher.py:33: SettingWithCopyWarning: \n",
            "A value is trying to be set on a copy of a slice from a DataFrame.\n",
            "Try using .loc[row_indexer,col_indexer] = value instead\n",
            "\n",
            "See the caveats in the documentation: https://pandas.pydata.org/pandas-docs/stable/user_guide/indexing.html#returning-a-view-versus-a-copy\n",
            "/usr/local/lib/python3.7/dist-packages/ipykernel_launcher.py:34: SettingWithCopyWarning: \n",
            "A value is trying to be set on a copy of a slice from a DataFrame.\n",
            "Try using .loc[row_indexer,col_indexer] = value instead\n",
            "\n",
            "See the caveats in the documentation: https://pandas.pydata.org/pandas-docs/stable/user_guide/indexing.html#returning-a-view-versus-a-copy\n"
          ]
        }
      ],
      "source": [
        "dev_data_dict_cleaned = DeepCleanse(dev_data_dict[\"tweets_window\"], test_data_dict[\"tweets_window\"])\n",
        "dev_data_dict_cleaned.deepTextCleanse('body')\n"
      ]
    },
    {
      "cell_type": "markdown",
      "metadata": {
        "id": "VN_DQoNPYIbi"
      },
      "source": [
        "Cleaning News"
      ]
    },
    {
      "cell_type": "code",
      "execution_count": null,
      "metadata": {
        "id": "DC7-AB5AX0LC"
      },
      "outputs": [],
      "source": [
        "counter = 1\n",
        "for i in range(0, 25):\n",
        "  dev_data_dict_cleaned = DeepCleanse(dev_data_dict[\"news_window\"], test_data_dict[\"news_window\"])\n",
        "  dev_data_dict_cleaned.deepTextCleanse('Top{}'.format(counter))\n",
        "  counter = counter + 1"
      ]
    },
    {
      "cell_type": "code",
      "execution_count": null,
      "metadata": {
        "id": "p2AJFRYrZ6iA"
      },
      "outputs": [],
      "source": [
        "import sys\n",
        "print(sys.getsizeof(dev_data_dict[\"tweets_window\"]))\n",
        "\n",
        "print(test_data_dict[\"tweets_window\"][\"body\"].values[0])\n",
        "\n",
        "# ??? wierd\n"
      ]
    },
    {
      "cell_type": "code",
      "execution_count": null,
      "metadata": {
        "id": "GbVPN_z9hhTl"
      },
      "outputs": [],
      "source": [
        ""
      ]
    },
    {
      "cell_type": "code",
      "execution_count": null,
      "metadata": {
        "id": "pjyXcQwuepj7"
      },
      "outputs": [],
      "source": [
        "# print(test_data_dict['tweets_window']['Label'].value_counts())\n",
        "print(f\"Dev set label counts: \\n {dev_data_dict['news_window']['Label'].value_counts()} \\n\")\n",
        "print(f\"Test set label counts: \\n {test_data_dict['news_window']['Label'].value_counts()}\")"
      ]
    },
    {
      "cell_type": "markdown",
      "metadata": {
        "id": "2zmUBUxmXzAj"
      },
      "source": [
        "Split dev dataset into *Train* and *Validation*"
      ]
    },
    {
      "cell_type": "code",
      "execution_count": null,
      "metadata": {
        "id": "3JoihimFGnSk",
        "colab": {
          "base_uri": "https://localhost:8080/"
        },
        "outputId": "88ee2d3a-4190-48d5-fc86-46f4e858ea16"
      },
      "outputs": [
        {
          "output_type": "stream",
          "name": "stdout",
          "text": [
            "days of train set (including weekend): 142\n",
            "days of val set (including weekend): 35\n",
            "train_start_date: 2015-01-01, val_start_date: 2015-05-23\n",
            "Len of dataset 132\n",
            "Len of dataset 25\n"
          ]
        }
      ],
      "source": [
        "\n",
        "print(f\"days of train set (including weekend): {(train_end_date-train_start_date).days}\")\n",
        "print(f\"days of val set (including weekend): {(val_end_date-val_start_date).days}\")\n",
        "print(f\"train_start_date: {train_start_date.date()}, val_start_date: {val_start_date.date()}\")\n",
        "\n",
        "train_set_list=split_dataset_into_window_chunck(train_start_date,train_end_date,dev_data_dict)\n",
        "val_set_list=split_dataset_into_window_chunck(val_start_date,val_end_date,dev_data_dict)\n",
        "\n"
      ]
    },
    {
      "cell_type": "code",
      "execution_count": null,
      "metadata": {
        "id": "M5OI-BFPd6Ay"
      },
      "outputs": [],
      "source": [
        "# print(test_data_dict['tweets_window']['Label'].value_counts())\n",
        "\n",
        "print(f\"Train set label counts: \\n {train_set_list[0]['news_window']['Label'].value_counts()} \\n\")\n",
        "print(f\"Val set label counts: \\n {val_set_list[0]['news_window']['Label'].value_counts()}\")"
      ]
    },
    {
      "cell_type": "code",
      "execution_count": null,
      "metadata": {
        "id": "IoxiOICsIA4J",
        "colab": {
          "base_uri": "https://localhost:8080/"
        },
        "outputId": "6f5e20d7-1a3b-483a-ea47-037dc23ad8d3"
      },
      "outputs": [
        {
          "output_type": "stream",
          "name": "stdout",
          "text": [
            "0\n"
          ]
        }
      ],
      "source": [
        "print(train_set_list[0]['label'])"
      ]
    },
    {
      "cell_type": "markdown",
      "metadata": {
        "id": "JUnlwB_gUJTo"
      },
      "source": [
        "# Dataset visualization"
      ]
    },
    {
      "cell_type": "code",
      "execution_count": null,
      "metadata": {
        "id": "XpDgm1pxYwib"
      },
      "outputs": [],
      "source": [
        "#Helper function\n",
        "def check_freq(x):\n",
        "    freq = {}\n",
        "    for c in set(x):\n",
        "       freq[c] = x.count(c)\n",
        "    return freq\n"
      ]
    },
    {
      "cell_type": "code",
      "execution_count": null,
      "metadata": {
        "id": "8ZjXrssXKgrB"
      },
      "outputs": [],
      "source": [
        "print(dev_data_dict[\"news_window\"].columns)"
      ]
    },
    {
      "cell_type": "code",
      "execution_count": null,
      "metadata": {
        "id": "T8SHarE4MvVN"
      },
      "outputs": [],
      "source": [
        "news_rows_data=dev_data_dict[\"news_window\"][['Top1','Label']]\n",
        "news_rows_data['Top1'] = dev_data_dict[\"news_window\"]['Top1'].str.cat(dev_data_dict[\"news_window\"][[ 'Top2', 'Top3', 'Top4', 'Top5', 'Top6', 'Top7',\n",
        "       'Top8', 'Top9', 'Top10', 'Top11', 'Top12', 'Top13', 'Top14', 'Top15',\n",
        "       'Top16', 'Top17', 'Top18', 'Top19', 'Top20', 'Top21', 'Top22', 'Top23',\n",
        "       'Top24', 'Top25']], sep=' ')\n",
        "# news_together\n",
        "news_rows_data_list=news_rows_data.values.tolist()\n",
        "print(len(news_rows_data_list[0]))\n"
      ]
    },
    {
      "cell_type": "code",
      "execution_count": null,
      "metadata": {
        "id": "Cj1wDlryaEu6"
      },
      "outputs": [],
      "source": [
        "all_word_freq_by_company_dict={}\n",
        "all_word_label1_freq_by_company_dict={}\n",
        "\n",
        "\n",
        "all_word_freq_1ct_by_company_dict={}\n",
        "all_word_label1_freq_1ct_by_company_dict={}\n",
        "\n",
        "tweets_by_company=dev_data_dict[\"tweets_window\"].groupby('ticker_symbol')[['body','Label']].apply(lambda g: g.values.tolist()).to_dict()\n",
        "\n",
        "for company in tweets_by_company:\n",
        "    one_company_tweets=tweets_by_company[company]\n",
        "    # for i, (index, row) in enumerate(dev_data_dict[\"tweets_window\"].iterrows()):\n",
        "    all_word_freq_dict, all_word_label1_freq_dict, all_word_freq_1ct_dict, all_word_label1_freq_1ct_dict={}, {}, {}, {}\n",
        "    for i, line in enumerate(one_company_tweets):\n",
        "        label=int(line[1])\n",
        "        freq_dict=nltk.FreqDist(line[0].split(' '))       \n",
        "        for key in freq_dict:\n",
        "            if key in ['appl','aapl','msft','goog','googl','amzn','tsla','stock','market','fb','apple']:\n",
        "                continue\n",
        "            if key not in all_word_freq_dict:\n",
        "                all_word_freq_dict[key]=0\n",
        "                all_word_label1_freq_dict[key]=0\n",
        "                all_word_freq_1ct_dict[key]=0\n",
        "                all_word_label1_freq_1ct_dict[key]=0\n",
        "      \n",
        "            all_word_freq_dict[key]+=freq_dict[key]\n",
        "            all_word_label1_freq_dict[key]+=freq_dict[key]*label\n",
        "            \n",
        "            all_word_freq_1ct_dict[key]+=1 if freq_dict[key]>0 else 0\n",
        "            all_word_label1_freq_1ct_dict[key]+=1 if (freq_dict[key]*label >0) else 0\n",
        "        if i>200000:\n",
        "            break\n",
        "\n",
        "    all_word_freq_by_company_dict[company]=all_word_freq_dict\n",
        "    all_word_label1_freq_by_company_dict[company]=all_word_label1_freq_dict\n",
        "    all_word_freq_1ct_by_company_dict[company]=all_word_freq_1ct_dict\n",
        "    all_word_label1_freq_1ct_by_company_dict[company]=all_word_label1_freq_1ct_dict\n",
        "            \n",
        "        # Turnc before cleaning ???\n",
        "        \n",
        "\n",
        "\n",
        "all_word_freq_dict, all_word_label1_freq_dict, all_word_freq_1ct_dict, all_word_label1_freq_1ct_dict={}, {}, {}, {}\n",
        "for i, line in enumerate(news_rows_data_list):\n",
        "        label=int(line[1])\n",
        "        freq_dict=nltk.FreqDist(line[0].split(' '))        \n",
        "        for key in freq_dict:\n",
        "            if key not in all_word_freq_dict:\n",
        "                all_word_freq_dict[key]=0\n",
        "                all_word_label1_freq_dict[key]=0\n",
        "                all_word_freq_1ct_dict[key]=0\n",
        "                all_word_label1_freq_1ct_dict[key]=0\n",
        "      \n",
        "            all_word_freq_dict[key]+=freq_dict[key]\n",
        "            all_word_label1_freq_dict[key]+=freq_dict[key]*label\n",
        "            \n",
        "            all_word_freq_1ct_dict[key]+=1 if freq_dict[key]>0 else 0\n",
        "            all_word_label1_freq_1ct_dict[key]+=1 if (freq_dict[key]*label >0) else 0\n",
        "\n",
        "#         all_word_freq_by_company_dict[company]=all_word_freq_dict\n",
        "#         all_word_label1_freq_by_company_dict[company]=all_word_label1_freq_dict\n",
        "#         all_word_freq_1ct_by_company_dict[company]=all_word_freq_1ct_dict\n",
        "#         all_word_label1_freq_1ct_by_company_dict[company]=all_word_label1_freq_1ct_dict\n",
        "\n",
        "all_word_freq_by_company_dict[\"news\"]=all_word_freq_dict\n",
        "all_word_label1_freq_by_company_dict[\"news\"]=all_word_label1_freq_dict\n",
        "all_word_freq_1ct_by_company_dict[\"news\"]=all_word_freq_1ct_dict\n",
        "all_word_label1_freq_1ct_by_company_dict[\"news\"]=all_word_label1_freq_1ct_dict\n",
        "          \n",
        "\n",
        "# for key in all_word_freq_dict:\n",
        "#     print(f\"{key}: {all_word_freq_dict[key]}\")\n",
        "\n",
        "# for key in all_word_label1_freq_dict:\n",
        "#     print(f\"{key}: {all_word_freq_dict[key]}\")\n",
        "\n",
        "# for key in all_word_freq_1ct_by_company_dict['AAPL']:\n",
        "#     print(f\"{key}: {all_word_freq_1ct_by_company_dict['AAPL'][key]}\")\n",
        "\n",
        "print(all_word_label1_freq_1ct_by_company_dict[\"news\"])"
      ]
    },
    {
      "cell_type": "markdown",
      "metadata": {
        "id": "gPiV8PIUXoBB"
      },
      "source": [
        "# TF-IDF (An attempt)\n",
        "\n"
      ]
    },
    {
      "cell_type": "code",
      "execution_count": null,
      "metadata": {
        "id": "RUOXoWaRsIBf"
      },
      "outputs": [],
      "source": [
        "#train_set_list\n",
        "from sklearn.feature_extraction.text import TfidfVectorizer\n",
        "\n",
        "vectorizer = TfidfVectorizer()\n",
        "\n",
        "tweets_window_vector_list = []\n",
        "news_window_vector_list=[]\n",
        "prices_window_vector_list=[]\n",
        "\n",
        "train_set_list[1]['tweets_window']\n",
        "\n",
        "for i in range(0, len(train_set_list)):\n",
        "  tweets_window_vector = vectorizer.fit_transform(train_set_list[i]['tweets_window'].body)\n",
        "  tweets_window_vector_list.append(tweets_window_vector)\n",
        "\n",
        "  news_vector=[]\n",
        "  for j in range(1, 24):\n",
        "\n",
        "    news_window_vector = vectorizer.fit_transform(train_set_list[i]['news_window'][f'Top{j}'])\n",
        "    news_vector.append(news_window_vector)\n",
        "\n",
        "  news_window_vector_list.append(news_vector)\n",
        "  prices_window_vector_list.append(train_set_list[i][\"prices\"])\n",
        "\n",
        "\n",
        "  \n",
        "# input\n",
        "# train_set_list[1]['label']\n",
        "# window_length\n",
        "# for i in range(n):\n",
        "#   train_set_list[i] -> dict({\"feature\":\"vec\", \"lable\":\"label\"})\n",
        "\n",
        "#   train_set_list[i]={\"tweets_window\":tweets_window,\"news_window\":news_window,\"prices\":prices,\"label\":label}\n",
        "#   for j in rang(window_length):\n",
        "#       train_set_list[i][\"tweets_window\"][j] -> tf_idf_model()-> vec\n",
        "#       train_set_list[i][\"news_window\"][j] -> tf_idf_model()-> vec\n",
        "#       stack(\"tweets_window\"+\"news_window\"+\"prices\")  into vec\n",
        "\n",
        "# # output\n",
        "# train_dataset=dict({\"feature\":\"vec\", \"lable\":\"label\"})"
      ]
    },
    {
      "cell_type": "code",
      "execution_count": null,
      "metadata": {
        "id": "XLvY7NXMQMCA"
      },
      "outputs": [],
      "source": [
        "def vec_chunk_set_for_tf_idf(vec_data_set_lists, data_set_list):\n",
        "    vec_ds=[]\n",
        "    for sample in data_set_list:\n",
        "        _n, _tweet_vec, _news_vec, _prices_vec=trans_day_to_vec(sample) \n",
        "        d2v_train_feat=[]\n",
        "        for i in range(_n):\n",
        "          # print(len(tweet_vec[i]))\n",
        "          _tweet_vec_emb=sen_models[\"tweets_model\"].infer_vector(_tweet_vec[i].split())\n",
        "          _news_vec_emb=sen_models[\"news_model\"].infer_vector(_news_vec[i].split())\n",
        "          _prices_vec_emb=np.array(_prices_vec[i]).reshape(-1)\n",
        "          # print(_tweet_vec_emb.shape)\n",
        "          # print(_news_vec_emb.shape)\n",
        "          # print(_prices_vec_emb.shape)\n",
        "\n",
        "          stack_vec=np.hstack([_tweet_vec_emb,_news_vec_emb,_prices_vec_emb])\n",
        "          d2v_train_feat.append(stack_vec)\n",
        "          # print(stack_vec.shape)\n",
        "        vec_ds.append({\"feat\":np.array(d2v_train_feat), \"label\":sample[\"label\"].values[-1]})\n",
        "    return vec_ds"
      ]
    },
    {
      "cell_type": "code",
      "execution_count": null,
      "metadata": {
        "id": "gFUcTuvrQeOi"
      },
      "outputs": [],
      "source": [
        "# train_vec_data_set_lists=\n",
        "# tfidf_train_ds=vec_chunk_set_for_tf_idf(vec_data_set_lists)"
      ]
    },
    {
      "cell_type": "code",
      "execution_count": null,
      "metadata": {
        "id": "iuaeqw8VIsQO"
      },
      "outputs": [],
      "source": [
        "print(train_set_list[0]['label'])"
      ]
    },
    {
      "cell_type": "markdown",
      "metadata": {
        "id": "zEJl_XKWTKi_"
      },
      "source": [
        "# Sentence to vector"
      ]
    },
    {
      "cell_type": "code",
      "execution_count": null,
      "metadata": {
        "id": "ZFbTdbEVUQe2"
      },
      "outputs": [],
      "source": [
        "# print(train_set_list[0])\n",
        "print(len(train_set_list))\n",
        "print(train_set_list[10][\"tweets_window\"][\"tweet_id\"])\n",
        "# print(val_set_list)\n",
        "\n",
        "\n",
        "ds=[]\n",
        "for i in range(100):\n",
        "  ip=np.random.rand(30,500)\n",
        "  lb=random.random()*2//2\n",
        "  ds.append(dict({\"feat\":ip,\"label\":lb}))\n",
        "\n",
        "train_ds=ds.copy()\n",
        "val_ds=ds.copy()\n",
        "\n",
        "print(train_ds)"
      ]
    },
    {
      "cell_type": "code",
      "execution_count": null,
      "metadata": {
        "id": "xmZZr91eezRO"
      },
      "outputs": [],
      "source": [
        "# % pip install --ignore-installed sent2vec "
      ]
    },
    {
      "cell_type": "markdown",
      "metadata": {
        "id": "dfy9aWGj0_w5"
      },
      "source": [
        "Doc 2 vec for news"
      ]
    },
    {
      "cell_type": "code",
      "execution_count": null,
      "metadata": {
        "id": "b3hkIIoRoLuj"
      },
      "outputs": [],
      "source": [
        "import os\n",
        "import gensim\n",
        "from gensim.models import Doc2Vec\n",
        "\n",
        "TaggedDocument= gensim.models.doc2vec.TaggedDocument\n",
        "def doc2vec_model(docs, train_docs, output_dim=100):\n",
        "    def X_train_d2v(docs):\n",
        "      x_train=[]\n",
        "      for d_id, d in enumerate(docs):\n",
        "        for i, s in enumerate(d):\n",
        "          wl=s.split(\" \")\n",
        "          document=TaggedDocument(wl,tags=[d_id,i])\n",
        "          x_train.append(document)\n",
        "      return x_train\n",
        "\n",
        "    def train(X_docs, X_train):\n",
        "      model = gensim.models.Doc2Vec(vector_size=output_dim, window=3, min_count=5, alpha=0.025, min_alpha=0.025)\n",
        "      model.build_vocab(X_docs)\n",
        "      model.train(X_train,total_examples=model.corpus_count, epochs=10)\n",
        "      return model\n",
        "    X_docs=X_train_d2v(docs)\n",
        "    X_train=X_train_d2v(train_docs)\n",
        "    model=train(X_docs, X_train)\n",
        "    return model\n"
      ]
    },
    {
      "cell_type": "code",
      "execution_count": null,
      "metadata": {
        "id": "RoJyRQXh159H"
      },
      "outputs": [],
      "source": [
        "x_data=dev_data_dict[\"news_window\"].loc[:, ~dev_data_dict[\"news_window\"].columns.isin(['Date', 'Datetime', 'Label'])]\n",
        "docs=np.array(x_data)\n",
        "print(docs.shape)\n",
        "\n",
        "news_model=doc2vec_model(docs,docs, output_dim=news_vec_len)\n"
      ]
    },
    {
      "cell_type": "code",
      "execution_count": null,
      "metadata": {
        "id": "TWpzMDja566U"
      },
      "outputs": [],
      "source": [
        "tweets_data_set_dev=np.array(dev_data_dict[\"tweets_window\"][\"body\"])\n",
        "\n",
        "sample_size=(dev_end_date-dev_start_date).days*each_day_tweets_used_train\n",
        "random_indices = np.random.choice(tweets_data_set_dev.shape[0], \n",
        "                      size=sample_size, replace=False)\n",
        "tweets_data_set_train = tweets_data_set_dev[random_indices]\n",
        "print(tweets_data_set_train)\n",
        "tweets_model=doc2vec_model(tweets_data_set_dev,tweets_data_set_train,output_dim=tweets_vec_len) \n",
        "#Train the vocabulary list by the whole tweets, but train the data with only randome selected sample."
      ]
    },
    {
      "cell_type": "code",
      "execution_count": null,
      "metadata": {
        "id": "BqzxJq5y83aA"
      },
      "outputs": [],
      "source": [
        "print(dev_end_date-dev_start_date)\n",
        "print(tweets_data_set_dev.shape[0])"
      ]
    },
    {
      "cell_type": "code",
      "execution_count": null,
      "metadata": {
        "id": "1yggWzxZCEyv"
      },
      "outputs": [],
      "source": [
        "def trans_day_to_vec(sample):\n",
        "  _tweets_dic=sample[\"tweets_window\"].groupby('Date')['body'].apply(list).to_dict()\n",
        "  _news_dic=sample[\"news_window\"].groupby('Date')['Label', 'Top1', 'Top2', 'Top3', 'Top4', 'Top5', 'Top6', 'Top7', \n",
        "                                                   'Top8', 'Top9', 'Top10', 'Top11', 'Top12', 'Top13', 'Top14', 'Top15', 'Top16', \n",
        "                                                   'Top17', 'Top18', 'Top19', 'Top20', 'Top21', 'Top22', 'Top23', 'Top24', 'Top25'].apply(list).to_dict()\n",
        "\n",
        "\n",
        "  num_days=len(_tweets_dic.keys())\n",
        "  tweet_vec=[]\n",
        "  news_vec=[]\n",
        "  _prices_vec=[]  \n",
        "  for key in sorted(_tweets_dic.keys()):\n",
        "    _tweet=_tweets_dic[key]\n",
        "\n",
        "    random_indices = np.random.choice(len(_tweet), \n",
        "                      size=each_day_tweets_used_train//num_days, replace=False)\n",
        "    _tweet_sample_train = np.array(_tweet)[random_indices]\n",
        "    tweet_vec.append(\" \".join(_tweet_sample_train))\n",
        "\n",
        "    _news=sample[\"news_window\"].loc[sample[\"news_window\"][\"Date\"]==key]\n",
        "    _news_sample_train=np.array(_news.drop(['Date', \"Datetime\",\"Label\"], axis=1)).reshape(-1)\n",
        "    news_vec.append(\" \".join(_news_sample_train))\n",
        "\n",
        "    _prices=sample[\"prices\"].loc[sample[\"prices\"][\"Date\"]==key]\n",
        "    _prices_vec.append(np.array(_prices.drop(['Date', \"Datetime\"], axis=1)).reshape(-1))\n",
        "  return num_days, tweet_vec, news_vec, _prices_vec\n"
      ]
    },
    {
      "cell_type": "code",
      "execution_count": null,
      "metadata": {
        "id": "9PnNuEXuGLOT"
      },
      "outputs": [],
      "source": [
        "def vec_chunk_set(data_set_list, sen_models):\n",
        "    vec_ds=[]\n",
        "    for sample in data_set_list:\n",
        "        _n, _tweet_vec, _news_vec, _prices_vec=trans_day_to_vec(sample) \n",
        "        d2v_train_feat=[]\n",
        "        for i in range(_n):\n",
        "          # print(len(tweet_vec[i]))\n",
        "          _tweet_vec_emb=sen_models[\"tweets_model\"].infer_vector(_tweet_vec[i].split())\n",
        "          _news_vec_emb=sen_models[\"news_model\"].infer_vector(_news_vec[i].split())\n",
        "          _prices_vec_emb=np.array(_prices_vec[i]).reshape(-1)\n",
        "          # print(_tweet_vec_emb.shape)\n",
        "          # print(_news_vec_emb.shape)\n",
        "          # print(_prices_vec_emb.shape)\n",
        "\n",
        "          stack_vec=np.hstack([_tweet_vec_emb,_news_vec_emb,_prices_vec_emb])\n",
        "          d2v_train_feat.append(stack_vec)\n",
        "          # print(stack_vec.shape)\n",
        "        vec_ds.append({\"feat\":np.array(d2v_train_feat), \"label\":sample[\"label\"]})\n",
        "    return vec_ds"
      ]
    },
    {
      "cell_type": "code",
      "source": [
        "val_set_list[1]"
      ],
      "metadata": {
        "id": "YxoFeXVH7OEc"
      },
      "execution_count": null,
      "outputs": []
    },
    {
      "cell_type": "code",
      "execution_count": null,
      "metadata": {
        "id": "cm4JWNLGjmeJ",
        "colab": {
          "base_uri": "https://localhost:8080/"
        },
        "outputId": "6bb3e6c6-67d4-4789-88e0-92882d7d9c6c"
      },
      "outputs": [
        {
          "output_type": "stream",
          "name": "stderr",
          "text": [
            "/usr/local/lib/python3.7/dist-packages/ipykernel_launcher.py:3: FutureWarning: Indexing with multiple keys (implicitly converted to a tuple of keys) will be deprecated, use a list instead.\n",
            "  This is separate from the ipykernel package so we can avoid doing imports until\n"
          ]
        },
        {
          "output_type": "stream",
          "name": "stdout",
          "text": [
            "Len of dataset 34\n"
          ]
        }
      ],
      "source": [
        "sen_models={\"tweets_model\":tweets_model, \"news_model\":news_model}\n",
        "d2v_train_ds=vec_chunk_set(train_set_list,sen_models)\n",
        "d2v_val_ds=vec_chunk_set(val_set_list,sen_models)\n",
        "\n",
        "test_set_list=split_dataset_into_window_chunck(test_start_date,test_end_date,test_data_dict)\n",
        "d2v_test_ds=vec_chunk_set(test_set_list,sen_models)\n",
        "\n",
        "\n",
        "\n",
        "# print(np.array(d2v_train_ds).shape)\n"
      ]
    },
    {
      "cell_type": "code",
      "source": [
        "d2v_train_ds[0]['label']"
      ],
      "metadata": {
        "id": "jsQNQuDtBfkK",
        "colab": {
          "base_uri": "https://localhost:8080/"
        },
        "outputId": "20ba99f5-a575-42c8-ccbd-4b34e1ea8df7"
      },
      "execution_count": null,
      "outputs": [
        {
          "output_type": "execute_result",
          "data": {
            "text/plain": [
              "0"
            ]
          },
          "metadata": {},
          "execution_count": 105
        }
      ]
    },
    {
      "cell_type": "code",
      "execution_count": null,
      "metadata": {
        "id": "bD93Db-BW2qI"
      },
      "outputs": [],
      "source": [
        "print(d2v_train_ds[0])\n",
        "print(len(d2v_train_ds))\n",
        "print(len(d2v_val_ds))\n",
        "print(d2v_test_ds[0])\n",
        "print(len(d2v_test_ds))\n",
        "\n",
        "print(d2v_train_ds[0][\"feat\"].shape)\n",
        "print(d2v_train_ds[2][\"feat\"].shape)"
      ]
    },
    {
      "cell_type": "code",
      "execution_count": null,
      "metadata": {
        "id": "UB69g0lWjUtM"
      },
      "outputs": [],
      "source": [
        "print(len(encoded_imgs[0]))"
      ]
    },
    {
      "cell_type": "code",
      "execution_count": null,
      "metadata": {
        "id": "2YWd_oNLe_Y0"
      },
      "outputs": [],
      "source": [
        ""
      ]
    },
    {
      "cell_type": "markdown",
      "metadata": {
        "id": "OeuUbIOlIgV1"
      },
      "source": [
        "Andre's Part\n",
        "\n"
      ]
    },
    {
      "cell_type": "code",
      "execution_count": null,
      "metadata": {
        "id": "-ZnjA2wyIm-f"
      },
      "outputs": [],
      "source": [
        "%who DataFrame"
      ]
    },
    {
      "cell_type": "markdown",
      "metadata": {
        "id": "AiLvXDI8XicV"
      },
      "source": [
        "# LR/RF"
      ]
    },
    {
      "cell_type": "code",
      "execution_count": null,
      "metadata": {
        "id": "igPicqcEGVRt"
      },
      "outputs": [],
      "source": [
        "min_day=min([d2v_train_ds[i][\"feat\"].shape[0] for i in range(len(d2v_train_ds))]) # minimum number of days each window has"
      ]
    },
    {
      "cell_type": "code",
      "execution_count": null,
      "metadata": {
        "id": "X7hibMHqhhf7"
      },
      "outputs": [],
      "source": [
        "# training, validation, test set for Random Forest\n",
        "X_train = np.array([])\n",
        "y_train = np.array([])\n",
        "window_shape=d2v_train_ds[0][\"feat\"].shape\n",
        "for i in range(len(d2v_train_ds)):\n",
        "  single = d2v_train_ds[i][\"feat\"][:min_day,:].reshape(1, min_day*window_shape[1])\n",
        "  X_train = np.append(X_train, single)\n",
        "  y_train = np.append(y_train,d2v_train_ds[i][\"label\"])\n",
        "X_train = X_train.reshape(len(d2v_train_ds),min_day*window_shape[1])\n",
        "\n",
        "X_val = np.array([])\n",
        "y_val = np.array([])\n",
        "window_shape=d2v_val_ds[0][\"feat\"].shape\n",
        "for i in range(len(d2v_val_ds)):\n",
        "  single = d2v_val_ds[i][\"feat\"][:min_day,:].reshape(1, min_day*window_shape[1])\n",
        "  X_val = np.append(X_val, single)\n",
        "  y_val = np.append(y_val,d2v_val_ds[i][\"label\"])\n",
        "X_val = X_val.reshape(len(d2v_val_ds),window_shape[0]*window_shape[1])\n",
        "\n",
        "X_test = np.array([])\n",
        "y_test = np.array([])\n",
        "window_shape=d2v_test_ds[0][\"feat\"].shape\n",
        "for i in range(len(d2v_test_ds)):\n",
        "  single = d2v_test_ds[i][\"feat\"][:min_day,:].reshape(1, min_day*window_shape[1])\n",
        "  X_test = np.append(X_test, single)\n",
        "  y_test = np.append(y_test,d2v_test_ds[i][\"label\"])\n",
        "X_test = X_test.reshape(len(d2v_test_ds),window_shape[0]*window_shape[1])"
      ]
    },
    {
      "cell_type": "code",
      "execution_count": null,
      "metadata": {
        "id": "DbE7y7YOi1pW",
        "colab": {
          "base_uri": "https://localhost:8080/"
        },
        "outputId": "7837d793-6783-4d02-c16f-ce494b9d68b5"
      },
      "outputs": [
        {
          "output_type": "execute_result",
          "data": {
            "text/plain": [
              "GridSearchCV(estimator=RandomForestClassifier(random_state=0),\n",
              "             param_grid={'min_samples_split': array([0.002, 0.101, 0.2  ]),\n",
              "                         'n_estimators': array([400, 500, 600]),\n",
              "                         'oob_score': [True], 'warm_start': [True]},\n",
              "             return_train_score=True)"
            ]
          },
          "metadata": {},
          "execution_count": 215
        }
      ],
      "source": [
        "from sklearn.ensemble import RandomForestClassifier\n",
        "from sklearn.model_selection import GridSearchCV\n",
        "from sklearn.model_selection import cross_val_score\n",
        "\n",
        "# estimator tuning\n",
        "n_estimators = np.arange(400, 700, 100)\n",
        "min_sample_split = np.linspace(0.002, 0.2,3)\n",
        "\n",
        "grid_rf = GridSearchCV(RandomForestClassifier(random_state=0),\n",
        "                       param_grid = {\n",
        "                           \"n_estimators\":n_estimators,\n",
        "                           \"min_samples_split\": min_sample_split,\n",
        "                           \"oob_score\":[True],\n",
        "                           \"warm_start\":[True]},\n",
        "                       return_train_score=True)\n",
        "grid_rf.fit(X_train, y_train)"
      ]
    },
    {
      "cell_type": "code",
      "execution_count": null,
      "metadata": {
        "id": "hIlWE5ReVo6r",
        "colab": {
          "base_uri": "https://localhost:8080/"
        },
        "outputId": "b04b913b-7d3a-4abd-fa13-bccbef5539e8"
      },
      "outputs": [
        {
          "output_type": "stream",
          "name": "stdout",
          "text": [
            "Best score: 0.5906432748538011\n",
            "Best alpha: {'min_samples_split': 0.002, 'n_estimators': 400, 'oob_score': True, 'warm_start': True}\n",
            "Test score: 0.375\n"
          ]
        }
      ],
      "source": [
        "print(f\"Best score:\", grid_rf.best_score_)\n",
        "print(f\"Best alpha:\", grid_rf.best_params_)\n",
        "print(f\"Test score:\", grid_rf.score(X_test, y_test))"
      ]
    },
    {
      "cell_type": "code",
      "execution_count": null,
      "metadata": {
        "id": "rcDTC384PTMH",
        "colab": {
          "base_uri": "https://localhost:8080/"
        },
        "outputId": "c9d7c05e-693d-40b6-9331-1f2a9a0b5917"
      },
      "outputs": [
        {
          "output_type": "execute_result",
          "data": {
            "text/plain": [
              "GridSearchCV(estimator=TimeSeriesForest(random_state=0),\n",
              "             param_grid={'min_samples_leaf': array([0.002, 0.151, 0.3  ]),\n",
              "                         'n_estimators': array([500, 600, 700, 800]),\n",
              "                         'n_windows': array([1, 3, 5]), 'oob_score': [True]},\n",
              "             return_train_score=True)"
            ]
          },
          "metadata": {},
          "execution_count": 217
        }
      ],
      "source": [
        "from pyts.classification import TimeSeriesForest\n",
        "\n",
        "# time series forest\n",
        "n_estimators = np.arange(500, 801, 100)\n",
        "min_samples_leaf = np.linspace(0.002, 0.3,3)\n",
        "n_windows=np.arange(1,6,2)\n",
        "\n",
        "grid_tsf = GridSearchCV(TimeSeriesForest(random_state=0),\n",
        "                       param_grid = {\n",
        "                           \"n_estimators\":n_estimators,\n",
        "                           \"min_samples_leaf\": min_samples_leaf,\n",
        "                           \"n_windows\": n_windows,\n",
        "                           \"oob_score\":[True]},\n",
        "                       return_train_score=True)\n",
        "grid_tsf.fit(X_train, y_train)"
      ]
    },
    {
      "cell_type": "code",
      "execution_count": null,
      "metadata": {
        "id": "VVeR4LDBxKvR",
        "colab": {
          "base_uri": "https://localhost:8080/"
        },
        "outputId": "b5c05a8c-1edb-4e14-fcc7-523b46b75d42"
      },
      "outputs": [
        {
          "output_type": "stream",
          "name": "stdout",
          "text": [
            "Best score: 0.6269005847953217\n",
            "Best alpha: {'min_samples_leaf': 0.002, 'n_estimators': 500, 'n_windows': 3, 'oob_score': True}\n",
            "Test score: 0.625\n"
          ]
        }
      ],
      "source": [
        "print(f\"Best score:\", grid_tsf.best_score_)\n",
        "print(f\"Best alpha:\", grid_tsf.best_params_)\n",
        "print(f\"Test score:\", grid_tsf.score(X_test, y_test))"
      ]
    },
    {
      "cell_type": "markdown",
      "metadata": {
        "id": "oF8MTtTFXl_K"
      },
      "source": [
        "# LSTM"
      ]
    },
    {
      "cell_type": "markdown",
      "metadata": {
        "id": "7-O_E5p5hFz4"
      },
      "source": [
        "Normalization"
      ]
    },
    {
      "cell_type": "code",
      "execution_count": null,
      "metadata": {
        "id": "ZKMpmikZgCmi"
      },
      "outputs": [],
      "source": [
        "def dev(dataset):\n",
        "  d2v = []\n",
        "  i = 0\n",
        "  for d in dataset:\n",
        "    for k in d['feat']:\n",
        "      d2v.append(k)\n",
        "  return np.mean(d2v,axis=0), np.std(d2v,axis=0)"
      ]
    },
    {
      "cell_type": "code",
      "execution_count": null,
      "metadata": {
        "id": "bgART9ZOTp5u"
      },
      "outputs": [],
      "source": [
        "def norm(dataset,mean,var):\n",
        "  norm_d2v = []\n",
        "  i = 0\n",
        "  for d in dataset:\n",
        "    if d['feat'].shape[0]==4:\n",
        "      norm_d2v.append({})\n",
        "      norm_d2v[i]['feat'] = np.append(np.array([[0]*len(d['feat'][0])]),[(np.array(d['feat']) - mean)/var])\n",
        "      norm_d2v[i]['feat'] = np.reshape(norm_d2v[i]['feat'],(5,256))\n",
        "    else:\n",
        "      norm_d2v.append({})\n",
        "      norm_d2v[i]['feat'] = (np.array(d['feat']) - mean)/var\n",
        "    norm_d2v[i]['label'] = d['label']\n",
        "    i += 1\n",
        "  return norm_d2v"
      ]
    },
    {
      "cell_type": "code",
      "execution_count": null,
      "metadata": {
        "id": "PVnMZgdlape6"
      },
      "outputs": [],
      "source": [
        "m,v = dev(d2v_train_ds+d2v_val_ds)\n",
        "norm_d2v_train = norm(d2v_train_ds, m, v)\n",
        "norm_d2v_val = norm(d2v_val_ds, m, v)\n",
        "norm_d2v_test = norm(d2v_test_ds, m, v)\n"
      ]
    },
    {
      "cell_type": "code",
      "source": [
        "def reform(dataset,start,end):\n",
        "  reshape_d2v = []\n",
        "  i = 0\n",
        "  for d in dataset:\n",
        "    reshape_d2v.append({})\n",
        "    reshape_d2v[i]['feat'] = d['feat'][:,start:end]\n",
        "    reshape_d2v[i]['label'] = d['label']\n",
        "    i += 1\n",
        "  return reshape_d2v"
      ],
      "metadata": {
        "id": "zk6zhZZX-mub"
      },
      "execution_count": null,
      "outputs": []
    },
    {
      "cell_type": "markdown",
      "metadata": {
        "id": "rVOak4bwdk4L"
      },
      "source": [
        "Model"
      ]
    },
    {
      "cell_type": "code",
      "execution_count": null,
      "metadata": {
        "id": "kBKnWy21QV7S"
      },
      "outputs": [],
      "source": [
        "from torch.functional import Tensor\n",
        "# -*- coding: UTF-8 -*-\n",
        "class Net(Module):\n",
        "    '''\n",
        "    pytorch prediction model\n",
        "    '''\n",
        "    def __init__(self, config):\n",
        "        super(Net, self).__init__()\n",
        "\n",
        "        self.lstm = LSTM(input_size=config.input_size, hidden_size=config.hidden_size,\n",
        "                         num_layers=config.lstm_layers, batch_first=True, dropout=config.dropout_rate, bidirectional=True)\n",
        "        self.linear = Linear(in_features=config.hidden_size*2, out_features=config.output_size)\n",
        "\n",
        "    def forward(self, x, hidden=None):\n",
        "        lstm_out, hidden = self.lstm(x, hidden)\n",
        "        linear_out = self.linear(lstm_out)\n",
        "        out = torch.sigmoid(linear_out)\n",
        "        return out, hidden\n",
        "\n",
        "\n",
        "def train(config, logger, data):\n",
        "    device = torch.device(\"cuda:0\" if config.use_cuda and torch.cuda.is_available() else \"cpu\") # CPU or GPU\n",
        "    train,val = data\n",
        "    model = Net(config).to(device)      \n",
        "    if config.add_train:                \n",
        "        model.load_state_dict(torch.load(config.model_save_path + config.model_name))\n",
        "    optimizer = torch.optim.Adam(model.parameters(), lr=config.learning_rate)\n",
        "    criterion = torch.nn.BCELoss()      \n",
        "\n",
        "    valid_loss_min = float(\"inf\")\n",
        "    bad_epoch = 0\n",
        "    global_step = 0\n",
        "    for epoch in range(config.epoch):\n",
        "        logger.info(\"Epoch {}/{}\".format(epoch, config.epoch))\n",
        "        model.train()                   \n",
        "        train_loss_array = []\n",
        "        hidden_train = None\n",
        "        for i, _data in enumerate(train):\n",
        "            # _train_X = torch.Tensor([[np.reshape(_data['feat'],(-1))]])\n",
        "            _train_X = torch.Tensor([[_data['feat'][-1,:]]])\n",
        "            _train_Y = torch.Tensor([[[_data['label']]]])\n",
        "            optimizer.zero_grad()               \n",
        "            pred_Y, hidden_train = model(_train_X, hidden_train)    \n",
        "\n",
        "            if not config.do_continue_train:\n",
        "                hidden_train = None             \n",
        "            else:                               # continue training\n",
        "                h_0, c_0 = hidden_train\n",
        "                h_0.detach_(), c_0.detach_()    \n",
        "                hidden_train = (h_0, c_0)\n",
        "            loss = criterion(pred_Y, _train_Y)  # compute loss\n",
        "            loss.backward()                     \n",
        "            optimizer.step()                    # update parameter\n",
        "            train_loss_array.append(loss.item())\n",
        "            global_step += 1\n",
        "\n",
        "        \n",
        "        model.eval()                    \n",
        "        valid_loss_array = []\n",
        "        hidden_valid = None\n",
        "        for _data in val:\n",
        "            # _valid_X = torch.Tensor([[np.reshape(_data['feat'],(-1))]])\n",
        "            _valid_X = torch.Tensor([[_data['feat'][-1,:]]])\n",
        "            _valid_Y = torch.Tensor([[[_data['label']]]])\n",
        "            pred_Y, hidden_valid = model(_valid_X, hidden_valid)\n",
        "            if not config.do_continue_train: hidden_valid = None\n",
        "            loss = criterion(pred_Y, _valid_Y)  \n",
        "            valid_loss_array.append(loss.item())\n",
        "\n",
        "        train_loss_cur = np.mean(train_loss_array)\n",
        "        valid_loss_cur = np.mean(valid_loss_array)\n",
        "        logger.info(\"The train loss is {:.6f}. \".format(train_loss_cur) +\n",
        "              \"The valid loss is {:.6f}.\".format(valid_loss_cur))\n",
        "\n",
        "        if valid_loss_cur < valid_loss_min:\n",
        "            valid_loss_min = valid_loss_cur\n",
        "            bad_epoch = 0\n",
        "            torch.save(model.state_dict(), config.model_save_path + config.model_name)  # save model\n",
        "        else:\n",
        "            bad_epoch += 1\n",
        "            if bad_epoch >= config.patience:    \n",
        "                logger.info(\" The training stops early in epoch {}\".format(epoch))\n",
        "                break\n",
        "\n",
        "\n",
        "def predict(config,test):\n",
        "\n",
        "    # model\n",
        "    device = torch.device(\"cuda:0\" if config.use_cuda and torch.cuda.is_available() else \"cpu\")\n",
        "    model = Net(config).to(device)\n",
        "    model.load_state_dict(torch.load(config.model_save_path + config.model_name))   \n",
        "\n",
        "    # store the predict result\n",
        "    result = torch.Tensor().to(device)\n",
        "\n",
        "    # prediction\n",
        "    model.eval()\n",
        "    hidden_predict = None\n",
        "    for _data in test:\n",
        "        # data_X = torch.Tensor([[np.reshape(_data['feat'],(-1))]])\n",
        "        data_X = torch.Tensor([[_data['feat'][-1,:]]])\n",
        "        pred_X, hidden_predict = model(data_X, hidden_predict)\n",
        "        cur_pred = torch.squeeze(pred_X, dim=0)\n",
        "        result = torch.cat((result, cur_pred), dim=0)\n",
        "\n",
        "    return result.detach().cpu().numpy()    \n"
      ]
    },
    {
      "cell_type": "markdown",
      "metadata": {
        "id": "lBTvu4z8hPr9"
      },
      "source": [
        "Train"
      ]
    },
    {
      "cell_type": "code",
      "execution_count": null,
      "metadata": {
        "id": "6OYsCrm51qrM"
      },
      "outputs": [],
      "source": [
        "# 150,100,6"
      ]
    },
    {
      "cell_type": "code",
      "execution_count": null,
      "metadata": {
        "id": "W-YzWUtPSlGQ",
        "colab": {
          "base_uri": "https://localhost:8080/",
          "height": 1000
        },
        "outputId": "c0cde870-9b56-44fa-9197-724b5b9b416b"
      },
      "outputs": [
        {
          "output_type": "stream",
          "name": "stdout",
          "text": [
            "[ 2021/12/16 03:27:23 ] \n",
            "Config:\n",
            "'add_train': False\n",
            "'batch_size': 10\n",
            "'continue_flag': ''\n",
            "'cur_time': '2021_12_16_03_27_23'\n",
            "'do_continue_train': False\n",
            "'do_log_print_to_screen': True\n",
            "'do_log_save_to_file': True\n",
            "'do_predict': True\n",
            "'do_train': True\n",
            "'dropout_rate': 0.2\n",
            "'epoch': 20\n",
            "'figure_save_path': './figure/'\n",
            "'hidden_size': 128\n",
            "'input_size': 1280\n",
            "'learning_rate': 0.001\n",
            "'log_save_path': './log/2021_12_16_03_27_23_pytorch/'\n",
            "'lstm_layers': 4\n",
            "'model_name': 'model_pytorch.pth'\n",
            "'model_postfix': '.pth'\n",
            "'model_save_path': './checkpoint/'\n",
            "'output_size': 1\n",
            "'patience': 5\n",
            "'predict_day': 1\n",
            "'random_seed': 42\n",
            "'shuffle_train_data': True\n",
            "'use_cuda': False\n",
            "'used_frame': 'pytorch'\n",
            "[ 2021/12/16 03:27:23 ] \n",
            "Config:\n",
            "'add_train': False\n",
            "'batch_size': 10\n",
            "'continue_flag': ''\n",
            "'cur_time': '2021_12_16_03_27_23'\n",
            "'do_continue_train': False\n",
            "'do_log_print_to_screen': True\n",
            "'do_log_save_to_file': True\n",
            "'do_predict': True\n",
            "'do_train': True\n",
            "'dropout_rate': 0.2\n",
            "'epoch': 20\n",
            "'figure_save_path': './figure/'\n",
            "'hidden_size': 128\n",
            "'input_size': 1280\n",
            "'learning_rate': 0.001\n",
            "'log_save_path': './log/2021_12_16_03_27_23_pytorch/'\n",
            "'lstm_layers': 4\n",
            "'model_name': 'model_pytorch.pth'\n",
            "'model_postfix': '.pth'\n",
            "'model_save_path': './checkpoint/'\n",
            "'output_size': 1\n",
            "'patience': 5\n",
            "'predict_day': 1\n",
            "'random_seed': 42\n",
            "'shuffle_train_data': True\n",
            "'use_cuda': False\n",
            "'used_frame': 'pytorch'\n",
            "[ 2021/12/16 03:27:23 ] \n",
            "Config:\n",
            "'add_train': False\n",
            "'batch_size': 10\n",
            "'continue_flag': ''\n",
            "'cur_time': '2021_12_16_03_27_23'\n",
            "'do_continue_train': False\n",
            "'do_log_print_to_screen': True\n",
            "'do_log_save_to_file': True\n",
            "'do_predict': True\n",
            "'do_train': True\n",
            "'dropout_rate': 0.2\n",
            "'epoch': 20\n",
            "'figure_save_path': './figure/'\n",
            "'hidden_size': 128\n",
            "'input_size': 1280\n",
            "'learning_rate': 0.001\n",
            "'log_save_path': './log/2021_12_16_03_27_23_pytorch/'\n",
            "'lstm_layers': 4\n",
            "'model_name': 'model_pytorch.pth'\n",
            "'model_postfix': '.pth'\n",
            "'model_save_path': './checkpoint/'\n",
            "'output_size': 1\n",
            "'patience': 5\n",
            "'predict_day': 1\n",
            "'random_seed': 42\n",
            "'shuffle_train_data': True\n",
            "'use_cuda': False\n",
            "'used_frame': 'pytorch'\n",
            "[ 2021/12/16 03:27:23 ] \n",
            "Config:\n",
            "'add_train': False\n",
            "'batch_size': 10\n",
            "'continue_flag': ''\n",
            "'cur_time': '2021_12_16_03_27_23'\n",
            "'do_continue_train': False\n",
            "'do_log_print_to_screen': True\n",
            "'do_log_save_to_file': True\n",
            "'do_predict': True\n",
            "'do_train': True\n",
            "'dropout_rate': 0.2\n",
            "'epoch': 20\n",
            "'figure_save_path': './figure/'\n",
            "'hidden_size': 128\n",
            "'input_size': 1280\n",
            "'learning_rate': 0.001\n",
            "'log_save_path': './log/2021_12_16_03_27_23_pytorch/'\n",
            "'lstm_layers': 4\n",
            "'model_name': 'model_pytorch.pth'\n",
            "'model_postfix': '.pth'\n",
            "'model_save_path': './checkpoint/'\n",
            "'output_size': 1\n",
            "'patience': 5\n",
            "'predict_day': 1\n",
            "'random_seed': 42\n",
            "'shuffle_train_data': True\n",
            "'use_cuda': False\n",
            "'used_frame': 'pytorch'\n",
            "[ 2021/12/16 03:27:23 ] \n",
            "Config:\n",
            "'add_train': False\n",
            "'batch_size': 10\n",
            "'continue_flag': ''\n",
            "'cur_time': '2021_12_16_03_27_23'\n",
            "'do_continue_train': False\n",
            "'do_log_print_to_screen': True\n",
            "'do_log_save_to_file': True\n",
            "'do_predict': True\n",
            "'do_train': True\n",
            "'dropout_rate': 0.2\n",
            "'epoch': 20\n",
            "'figure_save_path': './figure/'\n",
            "'hidden_size': 128\n",
            "'input_size': 1280\n",
            "'learning_rate': 0.001\n",
            "'log_save_path': './log/2021_12_16_03_27_23_pytorch/'\n",
            "'lstm_layers': 4\n",
            "'model_name': 'model_pytorch.pth'\n",
            "'model_postfix': '.pth'\n",
            "'model_save_path': './checkpoint/'\n",
            "'output_size': 1\n",
            "'patience': 5\n",
            "'predict_day': 1\n",
            "'random_seed': 42\n",
            "'shuffle_train_data': True\n",
            "'use_cuda': False\n",
            "'used_frame': 'pytorch'\n",
            "[ 2021/12/16 03:27:23 ] Epoch 0/20\n",
            "[ 2021/12/16 03:27:23 ] Epoch 0/20\n",
            "[ 2021/12/16 03:27:23 ] Epoch 0/20\n",
            "[ 2021/12/16 03:27:23 ] Epoch 0/20\n",
            "[ 2021/12/16 03:27:23 ] Epoch 0/20\n",
            "tensor([], size=(1, 1, 1, 0))\n",
            "[ 2021/12/16 03:27:23 ] Run Error\n",
            "Traceback (most recent call last):\n",
            "  File \"<ipython-input-125-bc57df741d2e>\", line 94, in main\n",
            "    train(config, logger, dev_data)\n",
            "  File \"<ipython-input-117-76dd20e2043f>\", line 52, in train\n",
            "    loss = criterion(pred_Y, _train_Y)  # compute loss\n",
            "  File \"/usr/local/lib/python3.7/dist-packages/torch/nn/modules/module.py\", line 1102, in _call_impl\n",
            "    return forward_call(*input, **kwargs)\n",
            "  File \"/usr/local/lib/python3.7/dist-packages/torch/nn/modules/loss.py\", line 603, in forward\n",
            "    return F.binary_cross_entropy(input, target, weight=self.weight, reduction=self.reduction)\n",
            "  File \"/usr/local/lib/python3.7/dist-packages/torch/nn/functional.py\", line 2908, in binary_cross_entropy\n",
            "    \"Please ensure they have the same size.\".format(target.size(), input.size())\n",
            "ValueError: Using a target size (torch.Size([1, 1, 1, 0])) that is different to the input size (torch.Size([1, 1, 1])) is deprecated. Please ensure they have the same size.\n",
            "[ 2021/12/16 03:27:23 ] Run Error\n",
            "Traceback (most recent call last):\n",
            "  File \"<ipython-input-125-bc57df741d2e>\", line 94, in main\n",
            "    train(config, logger, dev_data)\n",
            "  File \"<ipython-input-117-76dd20e2043f>\", line 52, in train\n",
            "    loss = criterion(pred_Y, _train_Y)  # compute loss\n",
            "  File \"/usr/local/lib/python3.7/dist-packages/torch/nn/modules/module.py\", line 1102, in _call_impl\n",
            "    return forward_call(*input, **kwargs)\n",
            "  File \"/usr/local/lib/python3.7/dist-packages/torch/nn/modules/loss.py\", line 603, in forward\n",
            "    return F.binary_cross_entropy(input, target, weight=self.weight, reduction=self.reduction)\n",
            "  File \"/usr/local/lib/python3.7/dist-packages/torch/nn/functional.py\", line 2908, in binary_cross_entropy\n",
            "    \"Please ensure they have the same size.\".format(target.size(), input.size())\n",
            "ValueError: Using a target size (torch.Size([1, 1, 1, 0])) that is different to the input size (torch.Size([1, 1, 1])) is deprecated. Please ensure they have the same size.\n",
            "[ 2021/12/16 03:27:23 ] Run Error\n",
            "Traceback (most recent call last):\n",
            "  File \"<ipython-input-125-bc57df741d2e>\", line 94, in main\n",
            "    train(config, logger, dev_data)\n",
            "  File \"<ipython-input-117-76dd20e2043f>\", line 52, in train\n",
            "    loss = criterion(pred_Y, _train_Y)  # compute loss\n",
            "  File \"/usr/local/lib/python3.7/dist-packages/torch/nn/modules/module.py\", line 1102, in _call_impl\n",
            "    return forward_call(*input, **kwargs)\n",
            "  File \"/usr/local/lib/python3.7/dist-packages/torch/nn/modules/loss.py\", line 603, in forward\n",
            "    return F.binary_cross_entropy(input, target, weight=self.weight, reduction=self.reduction)\n",
            "  File \"/usr/local/lib/python3.7/dist-packages/torch/nn/functional.py\", line 2908, in binary_cross_entropy\n",
            "    \"Please ensure they have the same size.\".format(target.size(), input.size())\n",
            "ValueError: Using a target size (torch.Size([1, 1, 1, 0])) that is different to the input size (torch.Size([1, 1, 1])) is deprecated. Please ensure they have the same size.\n",
            "[ 2021/12/16 03:27:23 ] Run Error\n",
            "Traceback (most recent call last):\n",
            "  File \"<ipython-input-125-bc57df741d2e>\", line 94, in main\n",
            "    train(config, logger, dev_data)\n",
            "  File \"<ipython-input-117-76dd20e2043f>\", line 52, in train\n",
            "    loss = criterion(pred_Y, _train_Y)  # compute loss\n",
            "  File \"/usr/local/lib/python3.7/dist-packages/torch/nn/modules/module.py\", line 1102, in _call_impl\n",
            "    return forward_call(*input, **kwargs)\n",
            "  File \"/usr/local/lib/python3.7/dist-packages/torch/nn/modules/loss.py\", line 603, in forward\n",
            "    return F.binary_cross_entropy(input, target, weight=self.weight, reduction=self.reduction)\n",
            "  File \"/usr/local/lib/python3.7/dist-packages/torch/nn/functional.py\", line 2908, in binary_cross_entropy\n",
            "    \"Please ensure they have the same size.\".format(target.size(), input.size())\n",
            "ValueError: Using a target size (torch.Size([1, 1, 1, 0])) that is different to the input size (torch.Size([1, 1, 1])) is deprecated. Please ensure they have the same size.\n",
            "[ 2021/12/16 03:27:23 ] Run Error\n",
            "Traceback (most recent call last):\n",
            "  File \"<ipython-input-125-bc57df741d2e>\", line 94, in main\n",
            "    train(config, logger, dev_data)\n",
            "  File \"<ipython-input-117-76dd20e2043f>\", line 52, in train\n",
            "    loss = criterion(pred_Y, _train_Y)  # compute loss\n",
            "  File \"/usr/local/lib/python3.7/dist-packages/torch/nn/modules/module.py\", line 1102, in _call_impl\n",
            "    return forward_call(*input, **kwargs)\n",
            "  File \"/usr/local/lib/python3.7/dist-packages/torch/nn/modules/loss.py\", line 603, in forward\n",
            "    return F.binary_cross_entropy(input, target, weight=self.weight, reduction=self.reduction)\n",
            "  File \"/usr/local/lib/python3.7/dist-packages/torch/nn/functional.py\", line 2908, in binary_cross_entropy\n",
            "    \"Please ensure they have the same size.\".format(target.size(), input.size())\n",
            "ValueError: Using a target size (torch.Size([1, 1, 1, 0])) that is different to the input size (torch.Size([1, 1, 1])) is deprecated. Please ensure they have the same size.\n"
          ]
        },
        {
          "output_type": "error",
          "ename": "TypeError",
          "evalue": "ignored",
          "traceback": [
            "\u001b[0;31m---------------------------------------------------------------------------\u001b[0m",
            "\u001b[0;31mTypeError\u001b[0m                                 Traceback (most recent call last)",
            "\u001b[0;32m<ipython-input-125-bc57df741d2e>\u001b[0m in \u001b[0;36m<module>\u001b[0;34m()\u001b[0m\n\u001b[1;32m    117\u001b[0m     \u001b[0mtest\u001b[0m \u001b[0;34m=\u001b[0m \u001b[0mnorm_d2v_test\u001b[0m\u001b[0;34m\u001b[0m\u001b[0;34m\u001b[0m\u001b[0m\n\u001b[1;32m    118\u001b[0m     \u001b[0mpred_result\u001b[0m \u001b[0;34m=\u001b[0m \u001b[0mmain\u001b[0m\u001b[0;34m(\u001b[0m\u001b[0mcon\u001b[0m\u001b[0;34m,\u001b[0m \u001b[0mdev\u001b[0m\u001b[0;34m,\u001b[0m \u001b[0mtest\u001b[0m\u001b[0;34m)\u001b[0m\u001b[0;34m;\u001b[0m\u001b[0;34m\u001b[0m\u001b[0;34m\u001b[0m\u001b[0m\n\u001b[0;32m--> 119\u001b[0;31m     \u001b[0mprint\u001b[0m\u001b[0;34m(\u001b[0m\u001b[0mpre_loss\u001b[0m\u001b[0;34m(\u001b[0m\u001b[0mnorm_d2v_test\u001b[0m\u001b[0;34m,\u001b[0m\u001b[0mpred_result\u001b[0m\u001b[0;34m)\u001b[0m\u001b[0;34m)\u001b[0m\u001b[0;34m\u001b[0m\u001b[0;34m\u001b[0m\u001b[0m\n\u001b[0m\u001b[1;32m    120\u001b[0m \u001b[0;34m\u001b[0m\u001b[0m\n\u001b[1;32m    121\u001b[0m     \u001b[0mdev_news\u001b[0m \u001b[0;34m=\u001b[0m \u001b[0;34m(\u001b[0m\u001b[0mreform\u001b[0m\u001b[0;34m(\u001b[0m\u001b[0mnorm_d2v_train\u001b[0m\u001b[0;34m,\u001b[0m\u001b[0;36m0\u001b[0m\u001b[0;34m,\u001b[0m\u001b[0;36m150\u001b[0m\u001b[0;34m)\u001b[0m\u001b[0;34m,\u001b[0m \u001b[0mreform\u001b[0m\u001b[0;34m(\u001b[0m\u001b[0mnorm_d2v_val\u001b[0m\u001b[0;34m,\u001b[0m\u001b[0;36m0\u001b[0m\u001b[0;34m,\u001b[0m\u001b[0;36m150\u001b[0m\u001b[0;34m)\u001b[0m\u001b[0;34m)\u001b[0m\u001b[0;34m\u001b[0m\u001b[0;34m\u001b[0m\u001b[0m\n",
            "\u001b[0;32m<ipython-input-125-bc57df741d2e>\u001b[0m in \u001b[0;36mpre_loss\u001b[0;34m(dataset, pre)\u001b[0m\n\u001b[1;32m    105\u001b[0m     \u001b[0mloss\u001b[0m \u001b[0;34m=\u001b[0m \u001b[0;36m0\u001b[0m\u001b[0;34m\u001b[0m\u001b[0;34m\u001b[0m\u001b[0m\n\u001b[1;32m    106\u001b[0m     \u001b[0;32mfor\u001b[0m \u001b[0md\u001b[0m \u001b[0;32min\u001b[0m \u001b[0mdataset\u001b[0m\u001b[0;34m:\u001b[0m\u001b[0;34m\u001b[0m\u001b[0;34m\u001b[0m\u001b[0m\n\u001b[0;32m--> 107\u001b[0;31m       \u001b[0;32mif\u001b[0m \u001b[0mpre\u001b[0m\u001b[0;34m[\u001b[0m\u001b[0mi\u001b[0m\u001b[0;34m]\u001b[0m\u001b[0;34m[\u001b[0m\u001b[0;36m0\u001b[0m\u001b[0;34m]\u001b[0m\u001b[0;34m>\u001b[0m\u001b[0;36m0.5\u001b[0m\u001b[0;34m:\u001b[0m\u001b[0;34m\u001b[0m\u001b[0;34m\u001b[0m\u001b[0m\n\u001b[0m\u001b[1;32m    108\u001b[0m         \u001b[0mloss\u001b[0m\u001b[0;34m+=\u001b[0m\u001b[0;34m(\u001b[0m\u001b[0;36m1\u001b[0m\u001b[0;34m-\u001b[0m\u001b[0md\u001b[0m\u001b[0;34m[\u001b[0m\u001b[0;34m'label'\u001b[0m\u001b[0;34m]\u001b[0m\u001b[0;34m)\u001b[0m\u001b[0;34m\u001b[0m\u001b[0;34m\u001b[0m\u001b[0m\n\u001b[1;32m    109\u001b[0m       \u001b[0;32melse\u001b[0m\u001b[0;34m:\u001b[0m\u001b[0;34m\u001b[0m\u001b[0;34m\u001b[0m\u001b[0m\n",
            "\u001b[0;31mTypeError\u001b[0m: 'NoneType' object is not subscriptable"
          ]
        }
      ],
      "source": [
        "# -*- coding: UTF-8 -*-\n",
        "class Config:\n",
        "    # data\n",
        "    predict_day = 1             \n",
        "\n",
        "    # lstm\n",
        "    # input_size = norm_d2v_train[0]['feat'].shape[0]*norm_d2v_train[0]['feat'].shape[1]\n",
        "    input_size = norm_d2v_train[0]['feat'].shape[1]\n",
        "    output_size = 1\n",
        "\n",
        "    hidden_size = 128           \n",
        "    lstm_layers = 4             # layer numbers\n",
        "    dropout_rate = 0.2          # dropout probability\n",
        "\n",
        "    # train\n",
        "    do_train = True\n",
        "    do_predict = True\n",
        "    add_train = False           \n",
        "    shuffle_train_data = False   \n",
        "    use_cuda = False                 \n",
        "\n",
        "    batch_size = 10\n",
        "    learning_rate = 0.001\n",
        "    epoch = 20                  \n",
        "    patience = 5                # stop training if no increase for val in patience epochs\n",
        "    random_seed = 42            \n",
        "\n",
        "    do_continue_train = True    # batch_size = 1, use previous final_state as init_state\n",
        "    continue_flag = \"\"           \n",
        "    if do_continue_train:\n",
        "        shuffle_train_data = False\n",
        "        batch_size = 1\n",
        "        continue_flag = \"continue_\"\n",
        "\n",
        "    # frame\n",
        "    used_frame = 'pytorch'  \n",
        "    model_postfix = \".pth\"\n",
        "    model_name = \"model_\" + continue_flag + used_frame + model_postfix\n",
        "\n",
        "    # path\n",
        "    model_save_path = \"./checkpoint/\" \n",
        "    figure_save_path = \"./figure/\"\n",
        "    log_save_path = \"./log/\"\n",
        "    do_log_print_to_screen = False\n",
        "    do_log_save_to_file = True                          \n",
        "    if not os.path.exists(model_save_path):\n",
        "        os.makedirs(model_save_path)    \n",
        "    if not os.path.exists(figure_save_path):\n",
        "        os.mkdir(figure_save_path)\n",
        "    if do_train and (do_log_save_to_file):\n",
        "        cur_time = time.strftime(\"%Y_%m_%d_%H_%M_%S\", time.localtime())\n",
        "        log_save_path = log_save_path + cur_time + '_' + used_frame + \"/\"\n",
        "        os.makedirs(log_save_path)\n",
        "\n",
        "def load_logger(config):\n",
        "    logger = logging.getLogger()\n",
        "    logger.setLevel(level=logging.DEBUG)\n",
        "\n",
        "    # StreamHandler\n",
        "    if config.do_log_print_to_screen:\n",
        "        stream_handler = logging.StreamHandler(sys.stdout)\n",
        "        stream_handler.setLevel(level=logging.INFO)\n",
        "        formatter = logging.Formatter(datefmt='%Y/%m/%d %H:%M:%S',\n",
        "                                      fmt='[ %(asctime)s ] %(message)s')\n",
        "        stream_handler.setFormatter(formatter)\n",
        "        logger.addHandler(stream_handler)\n",
        "\n",
        "    # FileHandler\n",
        "    if config.do_log_save_to_file:\n",
        "        file_handler = RotatingFileHandler(config.log_save_path + \"out.log\", maxBytes=1024000, backupCount=5)\n",
        "        file_handler.setLevel(level=logging.INFO)\n",
        "        formatter = logging.Formatter('%(asctime)s - %(levelname)s - %(message)s')\n",
        "        file_handler.setFormatter(formatter)\n",
        "        logger.addHandler(file_handler)\n",
        "\n",
        "        # save config to log file\n",
        "        config_dict = {}\n",
        "        for key in dir(config):\n",
        "            if not key.startswith(\"_\"):\n",
        "                config_dict[key] = getattr(config, key)\n",
        "        config_str = str(config_dict)\n",
        "        config_list = config_str[1:-1].split(\", '\")\n",
        "        config_save_str = \"\\nConfig:\\n\" + \"\\n'\".join(config_list)\n",
        "        logger.info(config_save_str)\n",
        "\n",
        "    return logger\n",
        "\n",
        "def main(config,dev_data, test_data):\n",
        "    logger = load_logger(config)\n",
        "    try:\n",
        "        np.random.seed(config.random_seed)  \n",
        "\n",
        "        if config.do_train:\n",
        "            train(config, logger, dev_data)\n",
        "\n",
        "        if config.do_predict:\n",
        "            pred_result = predict(config, test_data) \n",
        "            print(pred_result)\n",
        "            return pred_result      \n",
        "    except Exception:\n",
        "        logger.error(\"Run Error\", exc_info=True)\n",
        "     \n",
        "def pre_loss(dataset,pre):\n",
        "    i = 0\n",
        "    loss = 0\n",
        "    for d in dataset:\n",
        "      if pre[i][0]>0.5:\n",
        "        loss+=(1-d['label'])\n",
        "      else:        \n",
        "        loss+=(d['label'])\n",
        "      i += 1\n",
        "    return 1-loss/len(pre)\n",
        "\n",
        "if __name__==\"__main__\":\n",
        "    con = Config()\n",
        "    dev = (norm_d2v_train, norm_d2v_val)\n",
        "    test = norm_d2v_test\n",
        "    pred_result = main(con, dev, test);\n",
        "    print(pre_loss(norm_d2v_test,pred_result))\n",
        "    \n",
        "    dev_news = (reform(norm_d2v_train,0,150), reform(norm_d2v_val,0,150))\n",
        "    test_news = reform(norm_d2v_test,0,150)\n",
        "    con.input_size = test_news[0]['feat'].shape[1]\n",
        "    pred_result_news = main(con, dev_news, test_news);\n",
        "    print(f\"news: {pre_loss(norm_d2v_test,pred_result)}\")\n",
        "\n",
        "    dev_tweets = (reform(norm_d2v_train,150,250), reform(norm_d2v_val,150,250))\n",
        "    test_tweets = reform(norm_d2v_test,150,250)\n",
        "    con.input_size = test_tweets[0]['feat'].shape[1]\n",
        "    pred_result_tweets = main(con, dev_tweets, test_tweets);\n",
        "    print(f\"tweets: {pre_loss(norm_d2v_test,pred_result_tweets)}\")\n",
        "\n",
        "    dev_price = (reform(norm_d2v_train,250,256), reform(norm_d2v_val,250,256))\n",
        "    test_price = reform(norm_d2v_test,250,256)\n",
        "    con.input_size = test_price[0]['feat'].shape[1]\n",
        "    pred_result_price = main(con, dev_price, test_price);\n",
        "    print(f\"prices: {pre_loss(norm_d2v_test,pred_result_price)}\")"
      ]
    },
    {
      "cell_type": "code",
      "execution_count": null,
      "metadata": {
        "id": "5BjzPcrUskVJ"
      },
      "outputs": [],
      "source": [
        "test_label = []\n",
        "for d in d2v_test_ds:\n",
        "  test_label.append(d['label'])\n",
        "sum(np.array(test_label)==1)/len(test_label)"
      ]
    },
    {
      "cell_type": "code",
      "execution_count": null,
      "metadata": {
        "id": "fXhOW_w0qAbt"
      },
      "outputs": [],
      "source": [
        "i = 0\n",
        "loss = 0\n",
        "for d in d2v_test_ds:\n",
        "  if pred_result[i][0]>0.5:\n",
        "    loss+=(1-d['label'])\n",
        "  else:\n",
        "    \n",
        "    loss+=(d['label'])\n",
        "  # print(d['label'])\n",
        "  i += 1\n",
        "print(1-loss/len(pred_result))"
      ]
    },
    {
      "cell_type": "code",
      "execution_count": null,
      "metadata": {
        "id": "FucKWOtxsa9t"
      },
      "outputs": [],
      "source": [
        "pred_result[1][0]>0.6"
      ]
    },
    {
      "cell_type": "code",
      "execution_count": null,
      "metadata": {
        "id": "36OgGSsFkKDr"
      },
      "outputs": [],
      "source": [
        "pip install shap"
      ]
    },
    {
      "cell_type": "code",
      "execution_count": null,
      "metadata": {
        "id": "H_MG7NUEkOtv"
      },
      "outputs": [],
      "source": [
        "import shap"
      ]
    },
    {
      "cell_type": "code",
      "execution_count": null,
      "metadata": {
        "id": "g2pAajR6k9vW"
      },
      "outputs": [],
      "source": [
        "con = Config()\n",
        "device = torch.device(\"cpu\") \n",
        "valid_X = []\n",
        "for _data in norm_d2v_train[:20]:\n",
        "    valid_X.append(_data['feat'][-1,:])\n",
        "valid_X = torch.Tensor([[valid_X[0]]]).to(device)"
      ]
    },
    {
      "cell_type": "code",
      "execution_count": null,
      "metadata": {
        "id": "3POBNvbFndyG"
      },
      "outputs": [],
      "source": [
        "test_loader = torch.utils.data.DataLoader(valid_X, batch_size=5, shuffle=True)\n",
        "batch = next(iter(test_loader))\n",
        "valid_X_batch = batch"
      ]
    },
    {
      "cell_type": "code",
      "execution_count": null,
      "metadata": {
        "id": "3D7RfPK_kSMB"
      },
      "outputs": [],
      "source": [
        "model = Net(con).to(device)\n",
        "# model.load_state_dict(torch.load(con.model_save_path + con.model_name))\n",
        "\n",
        "explainer = shap.DeepExplainer(model,valid_X)"
      ]
    },
    {
      "cell_type": "code",
      "execution_count": null,
      "metadata": {
        "id": "kCKh4wmzaHgD"
      },
      "outputs": [],
      "source": [
        ""
      ]
    }
  ],
  "metadata": {
    "colab": {
      "collapsed_sections": [],
      "name": "4995 Final project.ipynb",
      "provenance": [],
      "toc_visible": true
    },
    "kernelspec": {
      "display_name": "Python 3",
      "name": "python3"
    },
    "language_info": {
      "name": "python"
    }
  },
  "nbformat": 4,
  "nbformat_minor": 0
}